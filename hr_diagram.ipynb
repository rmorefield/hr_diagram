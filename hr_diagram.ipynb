{
 "cells": [
  {
   "cell_type": "code",
   "execution_count": 23,
   "id": "64554498-4855-4237-a7fa-dd8cdb1f7e32",
   "metadata": {},
   "outputs": [],
   "source": [
    "import numpy as np\n",
    "import matplotlib.pyplot as plt\n",
    "import pandas as pd\n",
    "from astroquery.ipac.nexsci.nasa_exoplanet_archive import NasaExoplanetArchive as NEA"
   ]
  },
  {
   "cell_type": "code",
   "execution_count": 19,
   "id": "b24a7da5-1274-4555-ac11-2e076e75a666",
   "metadata": {},
   "outputs": [],
   "source": [
    "# Absolute Magnitude Function\n",
    "def calc_abs_mag(Vmag, distance):\n",
    "    '''Calculates the absolute magnitude.\n",
    "\n",
    "        Parameters\n",
    "        ----------\n",
    "        Vmag: The apparent magnitude of the star as seen from Earth.\n",
    "        distance: The distance of the star from Earth in parsecs.\n",
    "\n",
    "        Returns\n",
    "        -------\n",
    "        float: The absolute magnitude of the star.'''\n",
    "    \n",
    "    return Vmag - 5 * np.log10(distance/10)"
   ]
  },
  {
   "cell_type": "code",
   "execution_count": 63,
   "id": "1cfc94c9-b3b5-4447-88de-e5ea7ebcb18d",
   "metadata": {},
   "outputs": [],
   "source": [
    "# Load in the stellar data from the Nasa Exoplanet Archive\n",
    "data = NEA.query_criteria(\n",
    "    table='stellarhosts',\n",
    "    select='st_teff, st_lum, st_spectype, sy_vmag, sy_dist'\n",
    ")"
   ]
  },
  {
   "cell_type": "code",
   "execution_count": 103,
   "id": "ef542ae1-f458-4978-9996-ad2ea45eefa5",
   "metadata": {},
   "outputs": [],
   "source": [
    "# Mask any NaN values in each column used\n",
    "stars = data.to_pandas()\n",
    "mask = stars[\"st_teff\"].notna() & stars[\"st_spectype\"] & stars[\"sy_vmag\"].notna() & stars[\"sy_dist\"].notna()\n",
    "\n",
    "teffs = stars[\"st_teff\"][mask]\n",
    "spectypes = stars[\"st_spectype\"][mask]\n",
    "vmags = stars[\"sy_vmag\"][mask]\n",
    "distances = stars[\"sy_dist\"][mask]\n",
    "\n",
    "# Generate absolute magnitude\n",
    "abs_mags = calc_abs_mag(vmags, distances)\n",
    "\n",
    "# Calculate stellar luminosity as a ratio of the Sun's luminosity\n",
    "lums = 100.4 * (4.85 - abs_mags)\n",
    "\n",
    "# Calculate the B-V color index\n",
    "b_v = -0.865 + 8540/teffs"
   ]
  },
  {
   "cell_type": "code",
   "execution_count": 107,
   "id": "66e085c0-6b86-46cb-b054-f54ee560282d",
   "metadata": {},
   "outputs": [
    {
     "data": {
      "text/plain": [
       "(18.0, -18.0)"
      ]
     },
     "execution_count": 107,
     "metadata": {},
     "output_type": "execute_result"
    },
    {
     "data": {
      "image/png": "[encoded data removed]",
      "text/plain": [
       "<Figure size 640x480 with 1 Axes>"
      ]
     },
     "metadata": {},
     "output_type": "display_data"
    }
   ],
   "source": [
    "plt.scatter(teffs, abs_mags)\n",
    "plt.xlim(15000, 0)\n",
    "plt.ylim(18, -18)"
   ]
  },
  {
   "cell_type": "code",
   "execution_count": null,
   "id": "274f39f2-ebe2-4507-a072-462a97503725",
   "metadata": {},
   "outputs": [],
   "source": []
  }
 ],
 "metadata": {
  "kernelspec": {
   "display_name": "Python [conda env:base] *",
   "language": "python",
   "name": "conda-base-py"
  },
  "language_info": {
   "codemirror_mode": {
    "name": "ipython",
    "version": 3
   },
   "file_extension": ".py",
   "mimetype": "text/x-python",
   "name": "python",
   "nbconvert_exporter": "python",
   "pygments_lexer": "ipython3",
   "version": "3.12.7"
  }
 },
 "nbformat": 4,
 "nbformat_minor": 5
}
